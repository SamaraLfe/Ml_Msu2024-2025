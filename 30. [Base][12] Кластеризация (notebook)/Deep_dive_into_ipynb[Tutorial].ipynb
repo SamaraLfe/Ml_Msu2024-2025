{
  "cells": [
    {
      "cell_type": "markdown",
      "id": "332255e9",
      "metadata": {
        "id": "332255e9"
      },
      "source": [
        "## 0.3 Введение в интерактивные графики jupyter notebook"
      ]
    },
    {
      "cell_type": "markdown",
      "id": "bfe1873a",
      "metadata": {
        "id": "bfe1873a"
      },
      "source": [
        "Jupyter предоставляет широкий диапазон динамических элементов, которые могут помочь при визуализации данных. В этом задании при подборе гиперпараметров для малых наборов данных Вы можете воспользоваться такими инструментами."
      ]
    },
    {
      "cell_type": "markdown",
      "id": "803be1ed",
      "metadata": {
        "id": "803be1ed"
      },
      "source": [
        "### Формат `.ipynb`. Вывод и рендеринг"
      ]
    },
    {
      "cell_type": "markdown",
      "id": "03e75605",
      "metadata": {
        "id": "03e75605"
      },
      "source": [
        "Прежде всего нужно понять, каким образом в визуальном окружении происходит отображение вывода команд, выполненых внутри ячеек Jupyter Notebook. Рассмотрим пример исходного кода файла в формате `.ipynb`:\n",
        "```json\n",
        "{\n",
        " \"cells\": [\n",
        "  {\n",
        "   \"cell_type\": \"code\",\n",
        "   \"execution_count\": 1,\n",
        "   ...Метаданные ячейки...\n",
        "   \"outputs\": [\n",
        "    {\n",
        "     \"name\": \"stdout\",\n",
        "     \"output_type\": \"stream\",\n",
        "     \"text\": [\n",
        "      \"Hi there\\n\"\n",
        "     ]\n",
        "    }\n",
        "   ],\n",
        "   \"source\": [\n",
        "    \"print('Hi there')\"\n",
        "   ]\n",
        "  }\n",
        " ],\n",
        " ...Метаданные всего ноутбука...\n",
        "}\n",
        "    \n",
        "```\n",
        "\n",
        "Как видно из примера выше, каждая ячейка представляет из себя словарь с $2$ основными полями: `source` — текст в данной ячейке и `outputs` — список вывода данной ячейки. Вывод ячейки может иметь различный формат `output_type`, который определяет, как именно вывод ячейки будет отображаться после рендеринга. Однако, существует существенная проблема: **разные рендереры имеют разные возможности и семантики отображения `.ipynb`**. Таким образом, ноутбук, который правильно отображается при запуске локального Jupyter Notebook сервера может иметь другой вид при рендерненге внутри Kaggle/Google Colab/VSCode/GitHub/PyCharm."
      ]
    },
    {
      "cell_type": "markdown",
      "id": "1d6c7c9b",
      "metadata": {
        "id": "1d6c7c9b"
      },
      "source": [
        "Большинство сред корректно и одинакого отображают следующие виды вывода:\n",
        "1. **Plain Text**, как результат вывода ячейки в stdout, stderr:\n",
        "\n",
        "    ```python\n",
        "    import sys\n",
        "\n",
        "    print('Output to stdout')\n",
        "    print('Output to stderr', file=sys.stderr)\n",
        "    ```\n",
        "\n",
        "    Список `outputs` будет содержать $2$ поля:\n",
        "    ```json\n",
        "    \"outputs\": [\n",
        "      {\n",
        "        \"name\": \"stdout\",\n",
        "        \"output_type\": \"stream\",\n",
        "        \"text\": [\n",
        "          \"Output to stdout\\n\"\n",
        "        ]\n",
        "      },\n",
        "      {\n",
        "        \"name\": \"stderr\",\n",
        "        \"output_type\": \"stream\",\n",
        "        \"text\": [\n",
        "          \"Output to stderr\\n\"\n",
        "        ]\n",
        "      }\n",
        "    ]\n",
        "    }\n",
        "    ```\n",
        "    \n",
        "2. **Некоторые [MIME](https://developer.mozilla.org/ru/docs/Web/HTTP/Basics_of_HTTP/MIME_types) [типы](https://docs.w3cub.com/http/basics_of_http/mime_types/complete_list_of_mime_types.html)**, то есть стандартизованные типы документов в интернете. Обычно не возникает проблем с отрисовкой \"статического\" содержимого, такого как текст `text/plain`, html-код `text/html`, изображений `image/png`, `image/jpeg`, `image/svg+xml`. Ядро Jupyter ноутбука предоставляет как [явный способ](https://ipython.readthedocs.io/en/stable/config/integrating.html?highlight=_repr_pretty_#rich-display) записывать содержимое заданного MIME-типа в вывод ячейки, так и [набор классов-обёрток](https://ipython.readthedocs.io/en/stable/api/generated/IPython.display.html#module-IPython.display) для этого.\n",
        "\n",
        "Рассмотрим несколько популярных вариантов как для явного, так и для неявного вывода:"
      ]
    },
    {
      "cell_type": "code",
      "execution_count": null,
      "id": "55845ab2",
      "metadata": {
        "ExecuteTime": {
          "end_time": "2023-02-27T12:20:11.038603Z",
          "start_time": "2023-02-27T12:20:11.023159Z"
        },
        "id": "55845ab2",
        "outputId": "422fb077-7f12-4584-a2a1-ff8490535d39"
      },
      "outputs": [
        {
          "data": {
            "text/plain": [
              "Данный текст будет встроен в вывод ячейки как text/plain MIME-тип."
            ]
          },
          "execution_count": 1,
          "metadata": {},
          "output_type": "execute_result"
        }
      ],
      "source": [
        "class PlainTextOutput:\n",
        "    def __init__(self):\n",
        "        pass\n",
        "\n",
        "    def __repr__(self):\n",
        "        return 'Данный текст будет встроен в вывод ячейки как text/plain MIME-тип.'\n",
        "\n",
        "PlainTextOutput()"
      ]
    },
    {
      "cell_type": "markdown",
      "id": "2f29d0b3",
      "metadata": {
        "id": "2f29d0b3"
      },
      "source": [
        "Обратите внимание на тип вывода ячейки `output_type` для данного кода:\n",
        "```json\n",
        "\"outputs\": [\n",
        " {\n",
        "  \"data\": {\n",
        "   \"text/plain\": [\n",
        "    \"Данный текст будет встроен в вывод ячейки как text/plain MIME-тип.\"\n",
        "   ]\n",
        "  },\n",
        "  \"output_type\": \"execute_result\"\n",
        " }\n",
        "]\n",
        "```\n",
        "\n",
        "Также, важно помнить, что у всех классов есть [строковое представление по умолчанию](https://docs.python.org/3/library/functions.html#repr)."
      ]
    },
    {
      "cell_type": "code",
      "execution_count": null,
      "id": "f9079b46",
      "metadata": {
        "ExecuteTime": {
          "end_time": "2023-02-27T12:20:11.362784Z",
          "start_time": "2023-02-27T12:20:11.357518Z"
        },
        "id": "f9079b46",
        "outputId": "3d6e2bdb-dda7-4247-8874-6aeb68fa2863"
      },
      "outputs": [
        {
          "data": {
            "text/html": [
              "Данный текст будет встроен в вывод ячейки как <font color=\"red\">text/html</font> MIME-тип."
            ],
            "text/plain": [
              "<__main__.TextHTMLOutput at 0x1059ef2e0>"
            ]
          },
          "execution_count": 2,
          "metadata": {},
          "output_type": "execute_result"
        }
      ],
      "source": [
        "class TextHTMLOutput:\n",
        "    def __init__(self):\n",
        "        pass\n",
        "\n",
        "    def _repr_html_(self):\n",
        "        return 'Данный текст будет встроен в вывод ячейки как <font color=\"red\">text/html</font> MIME-тип.'\n",
        "\n",
        "TextHTMLOutput()"
      ]
    },
    {
      "cell_type": "markdown",
      "id": "c477c10b",
      "metadata": {
        "ExecuteTime": {
          "end_time": "2023-02-27T11:46:30.510740Z",
          "start_time": "2023-02-27T11:46:30.505771Z"
        },
        "id": "c477c10b"
      },
      "source": [
        "Обратите внимание, что вывод ячейки может содержать [несколько представлений разного типа](https://ipython.readthedocs.io/en/stable/config/integrating.html?highlight=_repr_pretty_#MyObject._repr_mimebundle_). В процессе рендеринга будет выбрано подходящее представление в зависимости от конкретного рендерера. Порядок рендеринга для Jupyter Notebook определён [следующим образом](https://github.com/jupyter/notebook/blob/3e5b767ddbc3526729cadbc69fe472ffc3ec2e7e/notebook/static/notebook/js/outputarea.js#L1090).\n",
        "```json\n",
        "\"outputs\": [\n",
        " {\n",
        "  \"data\": {\n",
        "   \"text/html\": [\n",
        "    \"Данный текст будет встроен в вывод ячейки как <font color=\\\"red\\\">text/html</font> MIME-тип.\"\n",
        "   ],\n",
        "   \"text/plain\": [\n",
        "    \"<__main__.TextHTMLOutput at 0x1b1dc597ee0>\"\n",
        "   ]\n",
        "  },\n",
        "  \"output_type\": \"execute_result\"\n",
        " }\n",
        "]\n",
        "```"
      ]
    },
    {
      "cell_type": "markdown",
      "id": "1b21fdb7",
      "metadata": {
        "id": "1b21fdb7"
      },
      "source": [
        "Рассмотрим несколько встроенных способов отображения содержимого из библиотеки `IPython.display`. Также, отдельно рекомендуется ознакомится с классами `Audio, Code, FileLink, FileLinks`."
      ]
    },
    {
      "cell_type": "code",
      "execution_count": null,
      "id": "56232ee2",
      "metadata": {
        "ExecuteTime": {
          "end_time": "2023-02-27T12:20:11.925885Z",
          "start_time": "2023-02-27T12:20:11.922876Z"
        },
        "id": "56232ee2"
      },
      "outputs": [],
      "source": [
        "from IPython.display import HTML, SVG"
      ]
    },
    {
      "cell_type": "code",
      "execution_count": null,
      "id": "0ce23f90",
      "metadata": {
        "ExecuteTime": {
          "end_time": "2023-02-27T12:20:12.134812Z",
          "start_time": "2023-02-27T12:20:12.129625Z"
        },
        "code_folding": [
          1
        ],
        "id": "0ce23f90",
        "outputId": "2a103282-c5c2-40dd-b3c4-a108b16a306a"
      },
      "outputs": [
        {
          "data": {
            "text/html": [
              "\n",
              "    <style type=\"text/css\">\n",
              "    .tg  {border-collapse:collapse;border-spacing:0;}\n",
              "    .tg td{border-color:black;border-style:solid;border-width:1px;font-family:Arial, sans-serif;font-size:14px;\n",
              "      overflow:hidden;padding:10px 5px;word-break:normal;}\n",
              "    .tg th{border-color:black;border-style:solid;border-width:1px;font-family:Arial, sans-serif;font-size:14px;\n",
              "      font-weight:normal;overflow:hidden;padding:10px 5px;word-break:normal;}\n",
              "    .tg .tg-0lax{text-align:left;vertical-align:top}\n",
              "    </style>\n",
              "    <table class=\"tg\">\n",
              "    <thead>\n",
              "      <tr>\n",
              "        <th class=\"tg-0lax\">Встроенный</th>\n",
              "        <th class=\"tg-0lax\">класс</th>\n",
              "        <th class=\"tg-0lax\">для</th>\n",
              "        <th class=\"tg-0lax\">отображения</th>\n",
              "        <th class=\"tg-0lax\">HTML</th>\n",
              "        <th class=\"tg-0lax\">содержимого</th>\n",
              "      </tr>\n",
              "    </thead>\n",
              "    <tbody>\n",
              "      <tr>\n",
              "        <td class=\"tg-0lax\">Например</td>\n",
              "        <td class=\"tg-0lax\">,</td>\n",
              "        <td class=\"tg-0lax\">можно</td>\n",
              "        <td class=\"tg-0lax\">нарисовать</td>\n",
              "        <td class=\"tg-0lax\">красивую</td>\n",
              "        <td class=\"tg-0lax\">таблицу</td>\n",
              "      </tr>\n",
              "    </tbody>\n",
              "    </table>\n"
            ],
            "text/plain": [
              "<IPython.core.display.HTML object>"
            ]
          },
          "execution_count": 4,
          "metadata": {},
          "output_type": "execute_result"
        }
      ],
      "source": [
        "HTML(\n",
        "'''\n",
        "    <style type=\"text/css\">\n",
        "    .tg  {border-collapse:collapse;border-spacing:0;}\n",
        "    .tg td{border-color:black;border-style:solid;border-width:1px;font-family:Arial, sans-serif;font-size:14px;\n",
        "      overflow:hidden;padding:10px 5px;word-break:normal;}\n",
        "    .tg th{border-color:black;border-style:solid;border-width:1px;font-family:Arial, sans-serif;font-size:14px;\n",
        "      font-weight:normal;overflow:hidden;padding:10px 5px;word-break:normal;}\n",
        "    .tg .tg-0lax{text-align:left;vertical-align:top}\n",
        "    </style>\n",
        "    <table class=\"tg\">\n",
        "    <thead>\n",
        "      <tr>\n",
        "        <th class=\"tg-0lax\">Встроенный</th>\n",
        "        <th class=\"tg-0lax\">класс</th>\n",
        "        <th class=\"tg-0lax\">для</th>\n",
        "        <th class=\"tg-0lax\">отображения</th>\n",
        "        <th class=\"tg-0lax\">HTML</th>\n",
        "        <th class=\"tg-0lax\">содержимого</th>\n",
        "      </tr>\n",
        "    </thead>\n",
        "    <tbody>\n",
        "      <tr>\n",
        "        <td class=\"tg-0lax\">Например</td>\n",
        "        <td class=\"tg-0lax\">,</td>\n",
        "        <td class=\"tg-0lax\">можно</td>\n",
        "        <td class=\"tg-0lax\">нарисовать</td>\n",
        "        <td class=\"tg-0lax\">красивую</td>\n",
        "        <td class=\"tg-0lax\">таблицу</td>\n",
        "      </tr>\n",
        "    </tbody>\n",
        "    </table>\n",
        "'''\n",
        ")"
      ]
    },
    {
      "cell_type": "markdown",
      "id": "3b925a11",
      "metadata": {
        "id": "3b925a11"
      },
      "source": [
        "Соответствующий вывод в ячейке:\n",
        "```json\n",
        "\"outputs\": [\n",
        " {\n",
        "  \"data\": {\n",
        "   \"text/html\": [\n",
        "        ...HTML код опущен для краткости...\n",
        "   ],\n",
        "   \"text/plain\": [\n",
        "    \"<IPython.core.display.HTML object>\"\n",
        "   ]\n",
        "  },\n",
        "  \"output_type\": \"execute_result\"\n",
        " }\n",
        "]\n",
        "```"
      ]
    },
    {
      "cell_type": "code",
      "execution_count": null,
      "id": "e262d42d",
      "metadata": {
        "ExecuteTime": {
          "end_time": "2023-02-27T12:20:13.419700Z",
          "start_time": "2023-02-27T12:20:12.954325Z"
        },
        "id": "e262d42d",
        "outputId": "3ddff59e-7633-450b-8d25-3d4ff6901bb3"
      },
      "outputs": [
        {
          "data": {
            "image/svg+xml": [
              "<svg xmlns=\"http://www.w3.org/2000/svg\" viewBox=\"0 0 108 95\">\n",
              "<g transform=\"scale(0.1)\">\n",
              "<path d=\"M552,598c-5,10-11,20-12,32c8,11,16,7,25,0c-2-12-7-22-13-32\"/>\n",
              "<path d=\"M528,7c-17,3-32,13-41,28l-473,820c-10,18-10,39,0,56c10,18,29,29,49,29h947c20,0,39-11,49-29c10-17,10-38,0-56l-473-820c-12-21-35-31-58-28\" fill=\"#fff000\"/>\n",
              "<path d=\"M532,30c-9,2-17,7-21,15l-477,826c-5,9-5,21,0,30c5,9,15,15,26,15h954c10,0,20-6,26-15c5-9,5-21,0-30l-477-826c-7-11-18-16-31-15M537,126l405,713h-811z\"/>\n",
              "<path d=\"M582,378l-5,1l1,4l-129,31h-1c-5,3-9,7-10,12c-2,4-2,10,0,14c3,9,12,17,22,16h1l128-28l1,5l5-1zM580,389l8,34l-24,5h-121c1-4,3-7,8-9z\"/>\n",
              "<path d=\"M383,485l5,2l-1,4l132,19c6,2,10,6,12,11c2,4,2,10,1,14c-2,10-10,18-21,18l-131-17v5h-5zM387,496l-6,35l25,3l120-10v-1c-1-3-4-6-8-8z\"/>\n",
              "<path d=\"M249,699v43h211v-43h-64l-2,3l-2,4l-4,3c0,0-1,2-2,2h-4c-2,0-3,0-4,1c-1,1-3,1-3,2l-3,4c0,1-1,2-2,2h-4c0,0-2,1-3,0l-3-1c-1,0-3-1-3-2c-1-1,0-2-1-3l-1-3c-1-1-2-1-3-1c-1,0-4,0-4-1c0-2,0-3-1-4v-3v-3z\"/>\n",
              "<path d=\"M385,593c0,9-6,15-13,15c-7,0-13-6-13-15c0-8,12-39,14-39c1,0,12,31,12,39\"/>\n",
              "<path d=\"M382,671c0,8-6,15-13,15c-7,0-13-7-13-15c0-8,12-39,13-39c1,0,13,31,13,39\"/>\n",
              "<path d=\"M614,493c0,9-6,15-13,15c-7,0-13-6-13-15c0-8,12-39,13-39c2,0,13,31,13,39\"/>\n",
              "<path d=\"M613,591c0,8-6,15-13,15c-7,0-13-7-13-15c0-8,12-39,13-39c1,0,13,31,13,39\"/>\n",
              "<path d=\"M627,609c-7,0-8,3-7,8c1,6,4,9,7,13c12,10,25,13,37,18v3h-47c-2,6-8,10-15,10c-7,0-13-4-15-10h-4c0,4-4,7-9,7c-4,0-8-3-9-7h-42c-8,0-14,5-14,13c0,8,6,14,14,14h118c1,2,2,4,0,6h-140c-7,0-13,6-13,13c0,8,6,13,13,13h125c2,3,2,6,0,8h-112c-7,0-13,5-13,12c0,7,6,12,13,12h136c1,1,2,4,0,6h-94c-6,0-11,5-11,12c0,6,5,12,11,12h95v1c59,10,129,11,173-11v-105c-49-22-102-34-155-44c-6,1-14-2-19,1c-7-6-15-5-23-5\"/>\n",
              "</g>\n",
              "</svg>"
            ],
            "text/plain": [
              "<IPython.core.display.SVG object>"
            ]
          },
          "execution_count": 5,
          "metadata": {},
          "output_type": "execute_result"
        }
      ],
      "source": [
        "SVG('https://dev.w3.org/SVG/tools/svgweb/samples/svg-files/acid.svg')"
      ]
    },
    {
      "cell_type": "markdown",
      "id": "0e6039be",
      "metadata": {
        "ExecuteTime": {
          "end_time": "2023-02-27T11:47:22.676169Z",
          "start_time": "2023-02-27T11:47:22.671617Z"
        },
        "id": "0e6039be"
      },
      "source": [
        "Соответствующий вывод в ячейке:\n",
        "```json\n",
        "\"outputs\": [\n",
        " {\n",
        "  \"data\": {\n",
        "   \"image/svg+xml\": [\n",
        "    \"<svg xmlns=\\\"http://www.w3.org/2000/svg\\\" viewBox=\\\"0 0 108 95\\\">\\n\",\n",
        "        ...SVG код опущен для краткости...\n",
        "    \"</svg>\"\n",
        "   ],\n",
        "   \"text/plain\": [\n",
        "    \"<IPython.core.display.SVG object>\"\n",
        "   ]\n",
        "  },\n",
        "  \"output_type\": \"execute_result\"\n",
        " }\n",
        "]\n",
        "```"
      ]
    },
    {
      "cell_type": "markdown",
      "id": "22f8b7d0",
      "metadata": {
        "id": "22f8b7d0"
      },
      "source": [
        "К сожалению в случае более сложных, динамических объектов, ситуация обстоит гораздо хуже. Так, динамическое содержимое, такое как виждеты и интерактивные графики обычно представлены в виде кода как внутри ядра Jupyter Notebook, так и внутри фронтенда (встраивание на стороне фронтенда происходит также, как и в разобранных выше способах за счёт вывода и исполнения данных с MIME-типом `application/...`). При этом обновление их внешнего вида не всегда представлено изменением самого `.ipynb` файла. Вместо этого может изменяться сама DOM-структура web-страницы отображающей `.ipynb` файл. Это означает, что после завершения работы ядра или после перезагрузки страницы **состояние виджетов может быть потеряно** и они не смогут быть отрендерены заного. Это приведёт к тому, что, например, **интерактивный график не будет отображаться в выводе** соответствующей ячейки. Разработчики виджетов и Jupyter Notebook предложили [несколько](https://ipywidgets.readthedocs.io/en/stable/embedding.html#save-notebook-widget-state) [способов](https://github.com/matplotlib/ipympl/pull/343) решения этой проблемы, но на данный момент **динамический контент желательно использовать только для локальной визуализации**."
      ]
    },
    {
      "cell_type": "markdown",
      "id": "9ac9df51",
      "metadata": {
        "id": "9ac9df51"
      },
      "source": [
        "### [Бэкенды matplotlib](https://matplotlib.org/stable/users/explain/backends.html)"
      ]
    },
    {
      "cell_type": "markdown",
      "id": "dccb8dd3",
      "metadata": {
        "id": "dccb8dd3"
      },
      "source": [
        "Теперь рассмотрим как в схему отображения контента в Jupyter ноутбуке встроена библеотека `matplotlib`.\n",
        "\n",
        "Для выполнения отрисовки в библиотеке matplotlib выделена отдельная сущность — **backend**. Это часть програмного кода, которая выполняет отрисовку фигуры, то есть преобразование из програмного описания изображения (за что отвечает Ваш, пользовательский код — **frontend**, не путать с фронтендом среды исполнения Jupyter ноутбука) в само изображение. Вариантов выполнения такого преобразования много, но в контексте Jupyter Notebook нас будет интересовать следующие варианты (то есть разные бэкенды):\n",
        "1. **inline**\n",
        "2. **notebook** (эквивалентное название **nbagg**)\n",
        "3. **ipympl** (эквивалентное название **widget**)\n",
        "\n",
        "Переключение между бэкендами происходит с помощью магической команды:\n",
        "```python\n",
        "%matplotlib название_бэкенда\n",
        "```\n",
        "\n",
        "* **[inline](https://github.com/ipython/matplotlib-inline)**\n",
        "\n",
        "    Один из самых популярных бекэндов. Его основной особенностью является встраивание **статических** изображений внутрь кода Jupyter Notebook. Это означает, что **изображения** отображённые с помощью этого бекэнда будут сохранены в самом `.ipynb` файле в виде содержимого с MIME типом `image/png` и, как следствие, **будут корректно отображатся после того как ядро ноутбука завершит работу**.\n",
        "\n",
        "    Данный бекэнд желательно использовать по умолчанию, если не требуются динамические графики.\n",
        "\n",
        "    Для управления данным бекэндом существует библиотека `matplotlib-inline`, которая, например, позволяет задавать формат встраиваемого изображения:\n",
        "    ```python\n",
        "    # Включение inline бекэнда\n",
        "    %matplotlib inline\n",
        "\n",
        "    import matplotlib_inline\n",
        "    # Установка векторного формата для изображений\n",
        "    matplotlib_inline.backend_inline.set_matplotlib_formats('pdf', 'svg')\n",
        "    # Установка растрового формата для изображений\n",
        "    matplotlib_inline.backend_inline.set_matplotlib_formats('jpeg')\n",
        "    ```\n",
        "    \n",
        "    Вид вывода для этого бэкенда — статический документ-изображение:\n",
        "    ```json\n",
        "    \"outputs\": [\n",
        "    {\n",
        "     \"data\": {\n",
        "      \"image/png\": \"BASE64 код изображения опущен\\n\",\n",
        "      \"text/plain\": [\n",
        "       \"<Figure size 640x480 with 1 Axes>\"\n",
        "      ]\n",
        "     },\n",
        "     \"output_type\": \"display_data\"\n",
        "    }\n",
        "    ]\n",
        "    ```\n",
        "    \n",
        "* **notebook**\n",
        "\n",
        "    Первая реализация интерактивных графиков в Jupyter Notebook. Однако она не поддерживается JupyterLab и в облачных средах Google Colab и Kaggle. Для того, чтобы решить проблему с потерей состояния интерактивного виждета при отключении ядра данный бэкенд добавляет в вывод ячейки помимо объекта с MIME типом `application/javascript` (для собственно реализации интерактивного содержания) ещё и саму картинку в виде html кода с MIME типом `text/html`. Таким образом даже после перезагрузки изображения будут корректно отображаться. При этом, данный бэкенд автоматически обновляет содержимое статической картинки, при выполнении изменений на динамическом графике.\n",
        "    \n",
        "    Вид вывода для этого бэкенда — динамический виджет и статический документ-изображение:\n",
        "    ```json\n",
        "    \"outputs\": [\n",
        "     {\n",
        "      \"data\": {\n",
        "       \"application/javascript\": [\n",
        "           JavaScript код для динамического обновления графика\n",
        "       ],\n",
        "       \"text/plain\": [\n",
        "        \"<IPython.core.display.Javascript object>\"\n",
        "       ]\n",
        "      },\n",
        "      \"output_type\": \"display_data\"\n",
        "     },\n",
        "     {\n",
        "      \"data\": {\n",
        "       \"text/html\": [\n",
        "        \"<img src=\\\"data:image/png;base64, BASE64 код изображения опущен\" width=\\\"400\\\">\"\n",
        "       ],\n",
        "       \"text/plain\": [\n",
        "        \"<IPython.core.display.HTML object>\"\n",
        "       ]\n",
        "      },\n",
        "      \"output_type\": \"display_data\"\n",
        "     }\n",
        "    ]\n",
        "\n",
        "    ```\n",
        "    \n",
        "* **[ipympl](https://github.com/matplotlib/ipympl)**\n",
        "\n",
        "    Современная реализация интерактивных графиков в Jupyter Notebook. Данная реализация бэкенда работает как локально в Jupyter Notebook/JupyterLab, так и в облачной среде Kaggle (~работа в Google Colab всё ещё не поддерживается~).\n",
        "    \n",
        "    Вид вывода для этого бэкенда:\n",
        "    \n",
        "    ```json\n",
        "    \"outputs\": [\n",
        "     {\n",
        "      \"data\": {\n",
        "       \"application/vnd.jupyter.widget-view+json\": {\n",
        "        \"model_id\": \"cd25c4b2fb384688af7c5433d1b4820b\",\n",
        "        \"version_major\": 2,\n",
        "        \"version_minor\": 0\n",
        "       },\n",
        "       \"image/png\": \"BASE64 код изображения опущен\",\n",
        "       \"text/html\": [\n",
        "        \"\\n\",\n",
        "        \"            <div style=\\\"display: inline-block;\\\">\\n\",\n",
        "        \"                <div class=\\\"jupyter-widgets widget-label\\\" style=\\\"text-align: center;\\\">\\n\",\n",
        "        \"                    Figure\\n\",\n",
        "        \"                </div>\\n\",\n",
        "        \"                <img src='data:image/png;base64, BASE64 код изображения опущен' width=640.0/>\\n\",\n",
        "        \"            </div>\\n\",\n",
        "        \"        \"\n",
        "       ],\n",
        "       \"text/plain\": [\n",
        "        \"Canvas(toolbar=Toolbar(toolitems=[…\"\n",
        "       ]\n",
        "      },\n",
        "      \"output_type\": \"display_data\"\n",
        "     }\n",
        "    ]\n",
        "    ```\n",
        "    \n",
        "    Эта имплементация активно развивается, однако у неё есть несколько особенностей:\n",
        "    \n",
        "    1. Начиная с версии *0.8.0* данная реализация сохраняет в выводе ячейки статическое изображение (через MIME типы `image/png` и `text/html`, как показано выше), что гарантирует сохранение результата при перезагрузке ноутбука и выключении ядра.\n",
        "    2. Статическая картинка, в отличии от предыдущего случая сохраняется единожды, только при выполнении ячейки. То есть несмотря на то, что график может меняться, после перезапуска ядра визуализация будет совпадать с той, что была при выполнении ячейки. Данное поведение [может поменяться](https://github.com/matplotlib/ipympl/issues/359).\n",
        "    3. **Kaggle** работает с ipympl версиями ниже *0.7.1*, что означает, что при экспорте ноутбука из этого окружения **никакие интерактивные графики не сохранятся**.\n",
        "    4. Бэкенд особым образом модифицирует фигуры `matplotlib.figure.Figure`, добавляя поле `canvas`, которое являтся виджетом. Представление этого виджета с MIME типом `application/vnd.jupyter.widget-view+json` также добавляется в вывод ячейки."
      ]
    },
    {
      "cell_type": "markdown",
      "id": "6240ff68",
      "metadata": {
        "id": "6240ff68"
      },
      "source": [
        "### Виджеты Jupyter Notebook"
      ]
    },
    {
      "cell_type": "markdown",
      "id": "edb469ee",
      "metadata": {
        "id": "edb469ee"
      },
      "source": [
        "Виджеты в Jupyter Notebook — это расширение, которое позворяет создавать особые динамические элементы и встраивать их в вывод ячейки. Рассмотрим создание виджета на примере:"
      ]
    },
    {
      "cell_type": "code",
      "execution_count": null,
      "id": "81674128",
      "metadata": {
        "ExecuteTime": {
          "end_time": "2023-02-27T12:20:14.528353Z",
          "start_time": "2023-02-27T12:20:14.473365Z"
        },
        "colab": {
          "referenced_widgets": [
            "39e228d8209a43f9815cc097d3fdb0ff"
          ]
        },
        "id": "81674128",
        "outputId": "fc426bf0-6ba7-4cbf-9434-cdd7798e3359"
      },
      "outputs": [
        {
          "data": {
            "application/vnd.jupyter.widget-view+json": {
              "model_id": "39e228d8209a43f9815cc097d3fdb0ff",
              "version_major": 2,
              "version_minor": 0
            },
            "text/plain": [
              "IntSlider(value=0)"
            ]
          },
          "execution_count": 6,
          "metadata": {},
          "output_type": "execute_result"
        }
      ],
      "source": [
        "from ipywidgets import IntSlider\n",
        "\n",
        "IntSlider()"
      ]
    },
    {
      "cell_type": "markdown",
      "id": "a028285a",
      "metadata": {
        "id": "a028285a"
      },
      "source": [
        "Вывод ячейки выше представлен ниже:\n",
        "```json\n",
        "\"outputs\": [\n",
        " {\n",
        "  \"data\": {\n",
        "   \"application/vnd.jupyter.widget-view+json\": {\n",
        "    \"model_id\": \"b682627a7c694b9484bde814a4fe973f\",\n",
        "    \"version_major\": 2,\n",
        "    \"version_minor\": 0\n",
        "   },\n",
        "   \"text/plain\": [\n",
        "    \"IntSlider(value=0)\"\n",
        "   ]\n",
        "  },\n",
        "  \"output_type\": \"execute_result\"\n",
        " }\n",
        "]\n",
        "```\n",
        "\n",
        "Можно заметить, что помимо текстового представления `text/plain`, создаётся представление в виде особого типа `application/vnd.jupyter.widget-view+json`. Это внутрений тип, указывающий, что данное поле в выводе является \"заглушкой\" для содержимого виждета. При этом, за его встраивание в web-страницу отвечает сама библиотека `ipywidgets`, а если быть точнее её фронтенд часть, запущенная в браузере. Информация о состоянии виджета не сохраняется в `.ipynb` ноутбуке, а хранится в ядре Jupyter ноутбука и в JavaScript фронтенде библиотеки `ipywidgets`. Это означает, что **при выключении ядра состояние виджета будет безвозвратно утеряно и информации для его отображения не будет**."
      ]
    },
    {
      "cell_type": "markdown",
      "id": "b18192a8",
      "metadata": {
        "id": "b18192a8"
      },
      "source": [
        "### Примеры работы с виджетами"
      ]
    },
    {
      "cell_type": "markdown",
      "id": "c93ed0fe",
      "metadata": {
        "id": "c93ed0fe"
      },
      "source": [
        "Рассмотрим простейший пример использования **виджетов jupyter notebook** на примере подбора гиперпараметров полиномиальной линейной регрессии."
      ]
    },
    {
      "cell_type": "code",
      "execution_count": null,
      "id": "4b0aacc4",
      "metadata": {
        "ExecuteTime": {
          "end_time": "2023-02-27T12:20:16.913198Z",
          "start_time": "2023-02-27T12:20:15.614053Z"
        },
        "id": "4b0aacc4"
      },
      "outputs": [],
      "source": [
        "import numpy as np\n",
        "\n",
        "from sklearn.linear_model import Ridge\n",
        "from sklearn.preprocessing import PolynomialFeatures\n",
        "\n",
        "import matplotlib\n",
        "import matplotlib.pyplot as plt\n",
        "from ipywidgets import interactive, fixed, interact_manual, IntSlider, FloatLogSlider, FloatSlider\n",
        "\n",
        "import seaborn as sns"
      ]
    },
    {
      "cell_type": "markdown",
      "id": "a1a98ff4",
      "metadata": {
        "ExecuteTime": {
          "end_time": "2023-02-27T11:48:53.326265Z",
          "start_time": "2023-02-27T11:48:53.323614Z"
        },
        "id": "a1a98ff4"
      },
      "source": [
        "#### Пример 1"
      ]
    },
    {
      "cell_type": "markdown",
      "id": "63be95da",
      "metadata": {
        "id": "63be95da"
      },
      "source": [
        "Сгенерируем обучающую выборку:"
      ]
    },
    {
      "cell_type": "code",
      "execution_count": null,
      "id": "d57df1d1",
      "metadata": {
        "ExecuteTime": {
          "end_time": "2023-02-27T12:20:17.616466Z",
          "start_time": "2023-02-27T12:20:17.612925Z"
        },
        "id": "d57df1d1"
      },
      "outputs": [],
      "source": [
        "x, y = (\n",
        "    np.linspace(-4, 3, 100),\n",
        "    np.sin(np.linspace(-4, 3, 100)) + np.random.normal(loc=0.0, scale=0.5, size=100)\n",
        ")"
      ]
    },
    {
      "cell_type": "markdown",
      "id": "de8f11c7",
      "metadata": {
        "id": "de8f11c7"
      },
      "source": [
        "Переключим режим работы matplotlib в интерактивный режим:"
      ]
    },
    {
      "cell_type": "code",
      "execution_count": null,
      "id": "4d3c0891",
      "metadata": {
        "ExecuteTime": {
          "end_time": "2023-02-27T12:20:18.911677Z",
          "start_time": "2023-02-27T12:20:18.777773Z"
        },
        "id": "4d3c0891"
      },
      "outputs": [],
      "source": [
        "%%capture\n",
        "! pip install ipympl matplotlib_inline"
      ]
    },
    {
      "cell_type": "code",
      "execution_count": null,
      "id": "8c27a45b",
      "metadata": {
        "ExecuteTime": {
          "end_time": "2023-02-27T12:20:19.589238Z",
          "start_time": "2023-02-27T12:20:19.569694Z"
        },
        "id": "8c27a45b"
      },
      "outputs": [],
      "source": [
        "%matplotlib ipympl\n",
        "\n",
        "# Для работы в Google Colab нужно выполнить специфичную магию\n",
        "# Обычно, она не срабатывает с первого раза, поэтому может потребоваться\n",
        "#   несколько раз выполнить ячейку и несколько раз попробовать нарисовать график\n",
        "try:\n",
        "    from google.colab import output\n",
        "    output.enable_custom_widget_manager()\n",
        "except:\n",
        "    pass"
      ]
    },
    {
      "cell_type": "markdown",
      "id": "e6b1f73e",
      "metadata": {
        "id": "e6b1f73e"
      },
      "source": [
        "Нарисуем на графике обучающую выборку:"
      ]
    },
    {
      "cell_type": "code",
      "execution_count": null,
      "id": "1d4ecbf5",
      "metadata": {
        "ExecuteTime": {
          "end_time": "2023-02-27T12:20:21.015487Z",
          "start_time": "2023-02-27T12:20:20.884274Z"
        },
        "colab": {
          "referenced_widgets": [
            "cb0a95c3cde541d4b4b0b0ba855c30a2"
          ]
        },
        "id": "1d4ecbf5",
        "outputId": "8764140d-3813-4e4f-df28-569c6bf4a164"
      },
      "outputs": [
        {
          "data": {
            "application/vnd.jupyter.widget-view+json": {
              "model_id": "cb0a95c3cde541d4b4b0b0ba855c30a2",
              "version_major": 2,
              "version_minor": 0
            },
            "image/png": "[encoded data removed]",
            "text/html": [
              "\n",
              "            <div style=\"display: inline-block;\">\n",
              "                <div class=\"jupyter-widgets widget-label\" style=\"text-align: center;\">\n",
              "                    Figure\n",
              "                </div>\n",
              "                <img src='data:image/png;base64,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' width=800.0/>\n",
              "            </div>\n",
              "        "
            ],
            "text/plain": [
              "Canvas(toolbar=Toolbar(toolitems=[('Home', 'Reset original view', 'home', 'home'), ('Back', 'Back to previous …"
            ]
          },
          "metadata": {},
          "output_type": "display_data"
        }
      ],
      "source": [
        "fig, ax = plt.subplots(1, 1, figsize=(8, 4))\n",
        "ax.plot(x, y, label='Обучающая выборка')\n",
        "ax.grid(True)\n",
        "ax.legend()\n",
        "plt.show()"
      ]
    },
    {
      "cell_type": "markdown",
      "id": "7f337bf3",
      "metadata": {
        "id": "7f337bf3"
      },
      "source": [
        "Так как график нариисован с помощью интерактивного бэкенда, то его можно модифицировать на лету:"
      ]
    },
    {
      "cell_type": "code",
      "execution_count": null,
      "id": "4db8681a",
      "metadata": {
        "ExecuteTime": {
          "end_time": "2023-02-27T12:20:22.544766Z",
          "start_time": "2023-02-27T12:20:22.538723Z"
        },
        "id": "4db8681a"
      },
      "outputs": [],
      "source": [
        "line, = ax.plot([], [], label='Предсказания модели')\n",
        "_ = ax.legend()\n",
        "\n",
        "# Попробуйте вызвать здесь plt.show(), а затем изменить размер графика. Подумайте, как можно объяснить наблюдаемое поведение."
      ]
    },
    {
      "cell_type": "markdown",
      "id": "8603ecd7",
      "metadata": {
        "ExecuteTime": {
          "end_time": "2023-02-27T11:54:51.520999Z",
          "start_time": "2023-02-27T11:54:51.516750Z"
        },
        "id": "8603ecd7"
      },
      "source": [
        "Теперь создадим функцию, которая по данным и гиперпараметрам обучит модель, выполнит предсказания и нарисует их на графике:"
      ]
    },
    {
      "cell_type": "code",
      "execution_count": null,
      "id": "239a56c0",
      "metadata": {
        "ExecuteTime": {
          "end_time": "2023-02-27T12:20:25.106023Z",
          "start_time": "2023-02-27T12:20:25.102159Z"
        },
        "id": "239a56c0"
      },
      "outputs": [],
      "source": [
        "def polynomial_regression_updater(fig, line, x, y, degree, alpha):\n",
        "    # Обучаем линейную модель с заданной степенью полинома и выполняем предсказания\n",
        "    x_featues = PolynomialFeatures(degree=degree).fit_transform(x.reshape(-1, 1))\n",
        "    model = Ridge(alpha=alpha, solver='lsqr').fit(x_featues, y)\n",
        "    predictions = model.predict(x_featues)\n",
        "\n",
        "    # Обновляем линию на графике\n",
        "    line.set_xdata(x)\n",
        "    line.set_ydata(predictions)\n",
        "    # Принудительно перерисовываем фигуру\n",
        "    fig.canvas.draw_idle()"
      ]
    },
    {
      "cell_type": "markdown",
      "id": "789c0b50",
      "metadata": {
        "id": "789c0b50"
      },
      "source": [
        "Попробуем её вызвать и посмотреть на результат:"
      ]
    },
    {
      "cell_type": "code",
      "execution_count": null,
      "id": "0a872be6",
      "metadata": {
        "ExecuteTime": {
          "end_time": "2023-02-27T12:20:26.208865Z",
          "start_time": "2023-02-27T12:20:26.202797Z"
        },
        "id": "0a872be6"
      },
      "outputs": [],
      "source": [
        "polynomial_regression_updater(fig, line, x, y, degree=2, alpha=1.0)"
      ]
    },
    {
      "cell_type": "markdown",
      "id": "3a60900b",
      "metadata": {
        "id": "3a60900b"
      },
      "source": [
        "Теперь данную функцию можно использовать как **callback** для использования с динамическими слайдерами для подбора гиперпараметров. `interactive_plot` — виджет, отрисовка которого позволяет использовать динамический контент:"
      ]
    },
    {
      "cell_type": "code",
      "execution_count": null,
      "id": "6bd2fc94",
      "metadata": {
        "ExecuteTime": {
          "end_time": "2023-02-27T12:20:28.560248Z",
          "start_time": "2023-02-27T12:20:28.528250Z"
        },
        "colab": {
          "referenced_widgets": [
            "85ee6fc9074145fca0e0cf25ebab95c7"
          ]
        },
        "id": "6bd2fc94",
        "outputId": "ff4726a1-00a4-44aa-9cfe-510e1c2a3ec0"
      },
      "outputs": [
        {
          "data": {
            "application/vnd.jupyter.widget-view+json": {
              "model_id": "85ee6fc9074145fca0e0cf25ebab95c7",
              "version_major": 2,
              "version_minor": 0
            },
            "text/plain": [
              "interactive(children=(IntSlider(value=4, description='degree', max=20, min=1), FloatLogSlider(value=0.1, descr…"
            ]
          },
          "execution_count": 15,
          "metadata": {},
          "output_type": "execute_result"
        }
      ],
      "source": [
        "interactive_plot = interactive(\n",
        "    polynomial_regression_updater, fig=fixed(fig), line=fixed(line), x=fixed(x), y=fixed(y),\n",
        "    degree=IntSlider(value=4, min=1, max=20, step=1, description='degree'),\n",
        "    alpha=FloatLogSlider(value=0.1, min=-3, max=4, step=0.1, description=r'$\\alpha$')\n",
        ")\n",
        "interactive_plot"
      ]
    },
    {
      "cell_type": "markdown",
      "id": "537e249b",
      "metadata": {
        "id": "537e249b"
      },
      "source": [
        "#### Пример 2"
      ]
    },
    {
      "cell_type": "markdown",
      "id": "c9f876ed",
      "metadata": {
        "id": "c9f876ed"
      },
      "source": [
        "Бывают случаи, когда невозможно обновить данные прямо на графике и может потребоваться перерисовать график с нуля внутри callback:"
      ]
    },
    {
      "cell_type": "code",
      "execution_count": null,
      "id": "c091a759",
      "metadata": {
        "ExecuteTime": {
          "end_time": "2023-02-27T12:20:32.276945Z",
          "start_time": "2023-02-27T12:20:32.010240Z"
        },
        "colab": {
          "referenced_widgets": [
            "971c37258c554d78b2f3b6afabc4be20",
            "9307deedb8284c46b3519d285d7a2f20"
          ]
        },
        "id": "c091a759",
        "outputId": "fe524e9c-0a40-4354-a197-cc8e7695122e"
      },
      "outputs": [
        {
          "data": {
            "application/vnd.jupyter.widget-view+json": {
              "model_id": "971c37258c554d78b2f3b6afabc4be20",
              "version_major": 2,
              "version_minor": 0
            },
            "text/plain": [
              "interactive(children=(FloatSlider(value=1.0, description='$\\\\alpha$', max=10.0, min=1e-05), FloatSlider(value=…"
            ]
          },
          "execution_count": 16,
          "metadata": {},
          "output_type": "execute_result"
        },
        {
          "data": {
            "application/vnd.jupyter.widget-view+json": {
              "model_id": "9307deedb8284c46b3519d285d7a2f20",
              "version_major": 2,
              "version_minor": 0
            },
            "image/png": "[encoded data removed]",
            "text/html": [
              "\n",
              "            <div style=\"display: inline-block;\">\n",
              "                <div class=\"jupyter-widgets widget-label\" style=\"text-align: center;\">\n",
              "                    Figure\n",
              "                </div>\n",
              "                <img src='data:image/png;base64,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' width=700.0/>\n",
              "            </div>\n",
              "        "
            ],
            "text/plain": [
              "Canvas(toolbar=Toolbar(toolitems=[('Home', 'Reset original view', 'home', 'home'), ('Back', 'Back to previous …"
            ]
          },
          "metadata": {},
          "output_type": "display_data"
        }
      ],
      "source": [
        "def beta_distribution_updater(a, b):\n",
        "    # Каждый раз при вызове функции мы можем создать новую фигуру.\n",
        "    #  Однако, это в целом трудоёмкая операция (особенно в интерактивном режиме).\n",
        "    #  Чтобы уменьшить накладные расходы можно отчищать оси и рисовать на них изображение заного\n",
        "    # Более того, судя по всему пересоздание фигуры ломает сохранение графиков\n",
        "    #  при использовании ipympl бэкенда совместно с функцией interactive\n",
        "    if not hasattr(beta_distribution_updater, 'prev_fig'):\n",
        "        (\n",
        "            beta_distribution_updater.prev_fig,\n",
        "            beta_distribution_updater.prev_ax\n",
        "        ) = plt.subplots(1, 1, figsize=(7, 4))\n",
        "\n",
        "    if beta_distribution_updater.prev_fig is not None:\n",
        "        beta_distribution_updater.prev_ax.clear()\n",
        "\n",
        "    fig, ax = beta_distribution_updater.prev_fig, beta_distribution_updater.prev_ax\n",
        "    sns.histplot(np.random.beta(a=a, b=b, size=1000), ax=ax, bins=100)\n",
        "    ax.set_title('Выборочная гистограмма бета распределения')\n",
        "    ax.grid(True)\n",
        "    fig.canvas.draw_idle()\n",
        "\n",
        "interactive_plot = interactive(\n",
        "    beta_distribution_updater,\n",
        "    a=FloatSlider(value=1.0, min=1e-5, max=10, step=0.1, description=r'$\\alpha$'),\n",
        "    b=FloatSlider(value=1.0, min=1e-5, max=10, step=0.1, description=r'$\\beta$')\n",
        ")\n",
        "interactive_plot"
      ]
    },
    {
      "cell_type": "markdown",
      "id": "ef9b7347",
      "metadata": {
        "id": "ef9b7347"
      },
      "source": [
        "#### Пример 3"
      ]
    },
    {
      "cell_type": "markdown",
      "id": "d4d41465",
      "metadata": {
        "ExecuteTime": {
          "end_time": "2023-02-27T11:56:04.009568Z",
          "start_time": "2023-02-27T11:56:04.004958Z"
        },
        "id": "d4d41465"
      },
      "source": [
        "Заметим, что полную перерисовку с использованием виджетов можно проводить даже в неинтерактивном режиме:"
      ]
    },
    {
      "cell_type": "code",
      "execution_count": null,
      "id": "8f48c870",
      "metadata": {
        "ExecuteTime": {
          "end_time": "2023-02-27T12:20:34.071489Z",
          "start_time": "2023-02-27T12:20:34.067047Z"
        },
        "id": "8f48c870"
      },
      "outputs": [],
      "source": [
        "%matplotlib inline\n",
        "import matplotlib_inline\n",
        "matplotlib_inline.backend_inline.set_matplotlib_formats('pdf', 'svg')"
      ]
    },
    {
      "cell_type": "code",
      "execution_count": null,
      "id": "cfd12dea",
      "metadata": {
        "ExecuteTime": {
          "end_time": "2023-02-27T12:20:35.814449Z",
          "start_time": "2023-02-27T12:20:35.120214Z"
        },
        "colab": {
          "referenced_widgets": [
            "ac23c57f38b6480090f2eca3ab2b50b4"
          ]
        },
        "id": "cfd12dea",
        "outputId": "1a98a573-118a-4929-d694-f9246c264f8b"
      },
      "outputs": [
        {
          "data": {
            "application/vnd.jupyter.widget-view+json": {
              "model_id": "ac23c57f38b6480090f2eca3ab2b50b4",
              "version_major": 2,
              "version_minor": 0
            },
            "text/plain": [
              "interactive(children=(FloatSlider(value=0.0, description='$\\\\mu$', max=4.0, min=-4.0), FloatSlider(value=1.0, …"
            ]
          },
          "execution_count": 18,
          "metadata": {},
          "output_type": "execute_result"
        }
      ],
      "source": [
        "def normal_distribution_updater(loc, scale):\n",
        "    fig, ax = plt.subplots(1, 1, figsize=(7, 4))\n",
        "    sns.histplot(np.random.normal(loc=loc, scale=scale, size=1000), ax=ax, bins=100)\n",
        "    ax.set_title('Выборочная гистограмма номального распределения $\\mathcal{N}(\\mu, \\sigma)$')\n",
        "    ax.grid(True)\n",
        "    plt.show()\n",
        "\n",
        "interactive_plot = interactive(\n",
        "    normal_distribution_updater,\n",
        "    loc=FloatSlider(value=0.0, min=-4, max=4, step=0.1, description=r'$\\mu$'),\n",
        "    scale=FloatSlider(value=1.0, min=1e-5, max=10, step=0.1, description=r'$\\sigma$')\n",
        ")\n",
        "interactive_plot"
      ]
    },
    {
      "cell_type": "markdown",
      "id": "b7b0c3e4",
      "metadata": {
        "id": "b7b0c3e4"
      },
      "source": [
        "У функции `interactive` есть значительный недостаток. Посмотрим на вывод предыдущей ячейки:\n",
        "```json\n",
        "\"outputs\": [\n",
        " {\n",
        "  \"data\": {\n",
        "   \"application/vnd.jupyter.widget-view+json\": {\n",
        "    \"model_id\": \"f970fe3c94ed45dd8138174da375ca77\",\n",
        "    \"version_major\": 2,\n",
        "    \"version_minor\": 0\n",
        "   },\n",
        "   \"text/plain\": [\n",
        "    \"interactive(children=(FloatSlider(value=0.0, description='$\\\\\\\\mu$', max=4.0, min=-4.0), FloatSlider(value=1.0, …\"\n",
        "   ]\n",
        "  },\n",
        "  \"output_type\": \"execute_result\"\n",
        " }\n",
        "```\n",
        "\n",
        "Видно, что в выводе присутсвует только один виджет. Это связано с тем, что функция `interact` перехватывает все попытки записи в вывод ячейки из функции-callback и оборачивает их в один цельный виджет. Таким образом **вся информация о выводе храниться только внутри состояния виджета и будет безвозвратно потеряна в момент отключения ядра ноутбука**. Таким образом даже с учётом того, что inline matplotlib бэкенд попытался записать статическое изображение внутрь `.ipynb` файла, чтобы предотвратить его потерю, функция `interact` помешала этому."
      ]
    },
    {
      "cell_type": "markdown",
      "id": "93d43048",
      "metadata": {
        "id": "93d43048"
      },
      "source": [
        "### Общий итог"
      ]
    },
    {
      "cell_type": "markdown",
      "id": "842a29c2",
      "metadata": {
        "id": "842a29c2"
      },
      "source": [
        "Рассмотрим основные use-cases:\n",
        "\n",
        "1. **Google Colab** в последней версии начал поддерживать динамический контент! Можно использовать как ipympl, так и inline окружения. Экспорт (скачивание ноутбука) сохраняет динамические графики (Примеры 1, 2), однако, как было сказано выше, график сохраняется на момент его первой отрисоки.\n",
        "1. **Kaggle** в последней версии начал поддерживать динамический контент! Можно использовать как ipympl, так и inline окружения, но в обоих случаях динамические графики также не получится экспортировать (с бэкендом ipympl из-за слишком старой версии библиотеки в Kaggle, а с бэкендом inline из-за особенностей реализации библиотеки ipywidgets, описанных выше)\n",
        "2. Если Jupyter Notebook **запущен локально**, то Вам доступны все три бэкенда:\n",
        "    * При использовании ipympl графики должны всегда правильно сохраняться (обратите внимание на комментарий в функции `beta_distribution_updater`), однако из содержимое будет соответствовать результату, полученному при первом запуске ячейки\n",
        "    * При использовании inline, динамически обновляемые графики (Пример 3) не получится сохранить после выключения ядра\n",
        "    * Использовать бэкенд notebook не рекомендуется, так как он нестабильно работает с библиотекой ipywidgets"
      ]
    },
    {
      "cell_type": "markdown",
      "id": "37e79ff5",
      "metadata": {
        "id": "37e79ff5"
      },
      "source": [
        "**Обратите внимание, что динамическое содержимое может некорректно сохраняться в jupyter notebook. Используйте его только для локальной визуализации. Все графики, необходимые для сдачи задания должны быть статическими. Переход в статический режим происходит с помощью магической команды `%matplotlib inline`.**\n",
        "\n",
        "**Обязательно убедитесь, что все графики корректно сохранились корректно в ноутбуке перед сдачей в систему.**"
      ]
    }
  ],
  "metadata": {
    "kernelspec": {
      "display_name": "Python 3 (ipykernel)",
      "language": "python",
      "name": "python3"
    },
    "language_info": {
      "codemirror_mode": {
        "name": "ipython",
        "version": 3
      },
      "file_extension": ".py",
      "mimetype": "text/x-python",
      "name": "python",
      "nbconvert_exporter": "python",
      "pygments_lexer": "ipython3",
      "version": "3.10.9"
    },
    "toc": {
      "base_numbering": 1,
      "nav_menu": {},
      "number_sections": false,
      "sideBar": true,
      "skip_h1_title": false,
      "title_cell": "Table of Contents",
      "title_sidebar": "Contents",
      "toc_cell": false,
      "toc_position": {},
      "toc_section_display": true,
      "toc_window_display": false
    },
    "colab": {
      "provenance": []
    }
  },
  "nbformat": 4,
  "nbformat_minor": 5
}